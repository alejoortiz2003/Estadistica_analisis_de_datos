{
 "cells": [
  {
   "cell_type": "code",
   "execution_count": 2,
   "metadata": {},
   "outputs": [],
   "source": [
    "import sklearn\n",
    "import numpy as np\n",
    "import pandas as pd\n",
    "import matplotlib.pyplot as plt\n",
    "from sklearn.datasets import load_iris\n",
    "from scipy import stats\n",
    "import seaborn as sns\n",
    "%matplotlib inline"
   ]
  },
  {
   "cell_type": "code",
   "execution_count": 3,
   "metadata": {},
   "outputs": [
    {
     "data": {
      "text/plain": [
       "0.24197072451914337"
      ]
     },
     "execution_count": 3,
     "metadata": {},
     "output_type": "execute_result"
    }
   ],
   "source": [
    "from scipy.stats import norm\n",
    "\n",
    "x1 = 3\n",
    "\n",
    "mu1 = 4\n",
    "mu2 = 7\n",
    "sigma = 1\n",
    "\n",
    "p_muestra = norm.pdf(x1, mu1, sigma)\n",
    "p_muestra"
   ]
  },
  {
   "cell_type": "code",
   "execution_count": 4,
   "metadata": {},
   "outputs": [
    {
     "data": {
      "text/plain": [
       "0.00013383022576488537"
      ]
     },
     "execution_count": 4,
     "metadata": {},
     "output_type": "execute_result"
    }
   ],
   "source": [
    "p_muestra = norm.pdf(x1, mu2, sigma)\n",
    "p_muestra"
   ]
  },
  {
   "cell_type": "code",
   "execution_count": 5,
   "metadata": {},
   "outputs": [
    {
     "data": {
      "text/plain": [
       "5.931152735254122e-07"
      ]
     },
     "execution_count": 5,
     "metadata": {},
     "output_type": "execute_result"
    }
   ],
   "source": [
    "x1 = 3\n",
    "x2 = 10\n",
    "\n",
    "mu1 = 4\n",
    "mu2 = 7\n",
    "sigma = 1\n",
    "\n",
    "p_muestra = norm.pdf(x1, mu2, sigma)*norm.pdf(x2, mu2, sigma)\n",
    "p_muestra"
   ]
  },
  {
   "cell_type": "code",
   "execution_count": 6,
   "metadata": {},
   "outputs": [
    {
     "data": {
      "text/plain": [
       "1.4701857752651781e-09"
      ]
     },
     "execution_count": 6,
     "metadata": {},
     "output_type": "execute_result"
    }
   ],
   "source": [
    "x1 = 3\n",
    "x2 = 10\n",
    "\n",
    "mu1 = 4\n",
    "mu2 = 7\n",
    "sigma = 1\n",
    "\n",
    "p_muestra = norm.pdf(x1, mu1, sigma)*norm.pdf(x2, mu1, sigma)\n",
    "p_muestra"
   ]
  },
  {
   "cell_type": "code",
   "execution_count": 7,
   "metadata": {},
   "outputs": [],
   "source": [
    "muestra_10 =norm.rvs(5, sigma, size = 10)"
   ]
  },
  {
   "cell_type": "code",
   "execution_count": 23,
   "metadata": {},
   "outputs": [],
   "source": [
    "data1 = norm.rvs(mu1, sigma, size = 100000)\n",
    "data2 = norm.rvs(mu2, sigma, size = 100000)"
   ]
  },
  {
   "cell_type": "code",
   "execution_count": 24,
   "metadata": {},
   "outputs": [
    {
     "data": {
      "text/plain": [
       "[Text(0, 0.5, 'Frecuencia'), Text(0.5, 0, 'Distribucion normal mu1')]"
      ]
     },
     "execution_count": 24,
     "metadata": {},
     "output_type": "execute_result"
    },
    {
     "data": {
      "image/png": "[encoded data removed]",
      "text/plain": [
       "<Figure size 432x288 with 1 Axes>"
      ]
     },
     "metadata": {
      "needs_background": "light"
     },
     "output_type": "display_data"
    }
   ],
   "source": [
    "ax = sns.distplot(data1, bins=50, color='blue')\n",
    "ax.set(xlabel='Distribucion normal mu1', ylabel='Frecuencia')"
   ]
  },
  {
   "cell_type": "code",
   "execution_count": null,
   "metadata": {},
   "outputs": [
    {
     "data": {
      "text/plain": [
       "[Text(0, 0.5, 'Frecuencia'), Text(0.5, 0, 'Distribucion normal mu2')]"
      ]
     },
     "execution_count": 25,
     "metadata": {},
     "output_type": "execute_result"
    }
   ],
   "source": [
    "ax = sns.distplot(data1, bins=50, color='blue', kde = False)\n",
    "ax.set(xlabel='Distribucion normal mu1', ylabel='Frecuencia')\n",
    "\n",
    "ax = sns.distplot(data2, bins=50, color='red', kde=False)\n",
    "ax.set(xlabel='Distribucion normal mu2', ylabel='Frecuencia')"
   ]
  },
  {
   "cell_type": "code",
   "execution_count": 13,
   "metadata": {},
   "outputs": [],
   "source": [
    "muestra_10\n",
    "y = list([])\n",
    "for i in range(10):\n",
    "    y.append(3000)"
   ]
  },
  {
   "cell_type": "code",
   "execution_count": 17,
   "metadata": {},
   "outputs": [
    {
     "data": {
      "text/plain": [
       "<matplotlib.collections.PathCollection at 0x1a17b065d0>"
      ]
     },
     "execution_count": 17,
     "metadata": {},
     "output_type": "execute_result"
    },
    {
     "data": {
      "image/png": "[encoded data removed]",
      "text/plain": [
       "<Figure size 432x288 with 1 Axes>"
      ]
     },
     "metadata": {
      "needs_background": "light"
     },
     "output_type": "display_data"
    }
   ],
   "source": [
    "ax = sns.distplot(data1, bins=50, color='blue', kde = False)\n",
    "ax.set(xlabel='Distribucion normal mu1', ylabel='Frecuencia')\n",
    "\n",
    "ax = sns.distplot(data2, bins=50, color='red', kde=False)\n",
    "ax.set(xlabel='Distribucion normal mu2', ylabel='Frecuencia')\n",
    "\n",
    "ax.scatter(muestra_10, y, c='k')"
   ]
  },
  {
   "cell_type": "code",
   "execution_count": null,
   "metadata": {},
   "outputs": [],
   "source": []
  }
 ],
 "metadata": {
  "kernelspec": {
   "display_name": "Python 3",
   "language": "python",
   "name": "python3"
  },
  "language_info": {
   "codemirror_mode": {
    "name": "ipython",
    "version": 3
   },
   "file_extension": ".py",
   "mimetype": "text/x-python",
   "name": "python",
   "nbconvert_exporter": "python",
   "pygments_lexer": "ipython3",
   "version": "3.7.6"
  }
 },
 "nbformat": 4,
 "nbformat_minor": 4
}
