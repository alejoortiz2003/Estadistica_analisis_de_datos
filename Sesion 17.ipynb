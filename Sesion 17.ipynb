{
 "cells": [
  {
   "cell_type": "code",
   "execution_count": 79,
   "metadata": {},
   "outputs": [],
   "source": [
    "import pandas as pd\n",
    "import numpy as np\n",
    "\n",
    "import matplotlib.pyplot as plt\n",
    "\n",
    "import statsmodels.api as sm\n",
    "import pyreadstat as pr\n",
    "\n",
    "from sklearn import linear_model, metrics\n",
    "from sklearn.metrics import mean_squared_error, r2_score, accuracy_score\n",
    "\n",
    "%matplotlib inline"
   ]
  },
  {
   "cell_type": "code",
   "execution_count": 3,
   "metadata": {},
   "outputs": [
    {
     "data": {
      "text/plain": [
       "Index(['salario', 'noasiat', 'gpa', 'postgrad', 'experien'], dtype='object')"
      ]
     },
     "execution_count": 3,
     "metadata": {},
     "output_type": "execute_result"
    }
   ],
   "source": [
    "arc = 'compensacion-ejecutivos.sav'\n",
    "df, meta = pr.read_sav(arc)\n",
    "df.columns"
   ]
  },
  {
   "cell_type": "code",
   "execution_count": 4,
   "metadata": {},
   "outputs": [],
   "source": [
    "y = df['salario']\n",
    "X = df.drop(['salario', 'noasiat', 'postgrad'], axis=1)"
   ]
  },
  {
   "cell_type": "code",
   "execution_count": 5,
   "metadata": {},
   "outputs": [],
   "source": [
    "reg_lin = sm.OLS(y,sm.add_constant(X)).fit()"
   ]
  },
  {
   "cell_type": "code",
   "execution_count": 6,
   "metadata": {},
   "outputs": [
    {
     "name": "stdout",
     "output_type": "stream",
     "text": [
      "                            OLS Regression Results                            \n",
      "==============================================================================\n",
      "Dep. Variable:                salario   R-squared:                       0.798\n",
      "Model:                            OLS   Adj. R-squared:                  0.794\n",
      "Method:                 Least Squares   F-statistic:                     211.0\n",
      "Date:                Fri, 27 Mar 2020   Prob (F-statistic):           7.37e-38\n",
      "Time:                        12:17:54   Log-Likelihood:                -1135.4\n",
      "No. Observations:                 110   AIC:                             2277.\n",
      "Df Residuals:                     107   BIC:                             2285.\n",
      "Df Model:                           2                                         \n",
      "Covariance Type:            nonrobust                                         \n",
      "==============================================================================\n",
      "                 coef    std err          t      P>|t|      [0.025      0.975]\n",
      "------------------------------------------------------------------------------\n",
      "const       4968.0099   4325.267      1.149      0.253   -3606.328    1.35e+04\n",
      "gpa         2.024e+04   1364.423     14.831      0.000    1.75e+04    2.29e+04\n",
      "experien    1973.1918    148.539     13.284      0.000    1678.730    2267.653\n",
      "==============================================================================\n",
      "Omnibus:                        0.779   Durbin-Watson:                   1.909\n",
      "Prob(Omnibus):                  0.678   Jarque-Bera (JB):                0.857\n",
      "Skew:                          -0.191   Prob(JB):                        0.651\n",
      "Kurtosis:                       2.795   Cond. No.                         72.2\n",
      "==============================================================================\n",
      "\n",
      "Warnings:\n",
      "[1] Standard Errors assume that the covariance matrix of the errors is correctly specified.\n"
     ]
    }
   ],
   "source": [
    "print(reg_lin.summary())"
   ]
  },
  {
   "cell_type": "code",
   "execution_count": 7,
   "metadata": {},
   "outputs": [
    {
     "data": {
      "text/plain": [
       "<matplotlib.lines.Line2D at 0x1a1fd15d10>"
      ]
     },
     "execution_count": 7,
     "metadata": {},
     "output_type": "execute_result"
    },
    {
     "data": {
      "image/png": "[encoded data removed]",
      "text/plain": [
       "<Figure size 432x288 with 1 Axes>"
      ]
     },
     "metadata": {
      "needs_background": "light"
     },
     "output_type": "display_data"
    }
   ],
   "source": [
    "fig, ax = plt.subplots()\n",
    "\n",
    "y_pred = reg_lin.predict(sm.add_constant(X))\n",
    "\n",
    "ax.scatter(y, y-y_pred)\n",
    "\n",
    "plt.axhline(y=0, color='black', alpha=0.8, linestyle='--')"
   ]
  },
  {
   "cell_type": "code",
   "execution_count": 8,
   "metadata": {},
   "outputs": [
    {
     "data": {
      "text/plain": [
       "Index(['salario', 'noasiat', 'gpa', 'postgrad', 'experien'], dtype='object')"
      ]
     },
     "execution_count": 8,
     "metadata": {},
     "output_type": "execute_result"
    }
   ],
   "source": [
    "df.columns"
   ]
  },
  {
   "cell_type": "code",
   "execution_count": 9,
   "metadata": {},
   "outputs": [
    {
     "data": {
      "text/plain": [
       "count       110.000000\n",
       "mean      85256.518182\n",
       "std       16419.359283\n",
       "min       47279.000000\n",
       "25%       74379.000000\n",
       "50%       86384.000000\n",
       "75%       96827.250000\n",
       "max      118683.000000\n",
       "Name: salario, dtype: float64"
      ]
     },
     "execution_count": 9,
     "metadata": {},
     "output_type": "execute_result"
    }
   ],
   "source": [
    "# Crear distribucion de los cuartiles de los salarios para entender como podriamos hacer una analisis profundo de esta variable\n",
    "df.salario.describe()"
   ]
  },
  {
   "cell_type": "code",
   "execution_count": 77,
   "metadata": {},
   "outputs": [
    {
     "data": {
      "text/plain": [
       "array([1, 0, 0, 0, 0, 1, 0, 1, 0, 0, 0, 0, 0, 1, 0, 0, 0, 0, 1, 0, 1, 0,\n",
       "       0, 0, 0, 0, 0, 0, 0, 1, 1, 1, 0, 1, 0, 0, 0, 1, 0, 0, 0, 0, 1, 0,\n",
       "       0, 0, 1, 0, 0, 1, 1, 1, 0, 0, 1, 0, 0, 1, 0, 1, 0, 1, 0, 0, 0, 0,\n",
       "       1, 0, 0, 0, 0, 0, 0, 1, 0, 1, 1, 0, 0, 1, 0, 1, 0, 1, 1, 0, 0, 0,\n",
       "       0, 0, 1, 0, 0, 1, 0, 0, 0, 0, 0, 0, 0, 0, 0, 1, 0, 0, 0, 0, 0, 1])"
      ]
     },
     "execution_count": 77,
     "metadata": {},
     "output_type": "execute_result"
    }
   ],
   "source": [
    "# Si queremos saber cuales son las variables que influyen para que una persona gane un salario superior a 96mil\n",
    "y=np.where(df['salario'] > 96000, 1, 0)\n",
    "X=df.drop(['salario'], axis=1)\n",
    "y"
   ]
  },
  {
   "cell_type": "code",
   "execution_count": 52,
   "metadata": {},
   "outputs": [
    {
     "data": {
      "text/plain": [
       "[Text(0, 0.5, 'y'), Text(0.5, 0, 'Salario')]"
      ]
     },
     "execution_count": 52,
     "metadata": {},
     "output_type": "execute_result"
    },
    {
     "data": {
      "image/png": "[encoded data removed]",
      "text/plain": [
       "<Figure size 432x288 with 1 Axes>"
      ]
     },
     "metadata": {
      "needs_background": "light"
     },
     "output_type": "display_data"
    }
   ],
   "source": [
    "fig, ax = plt.subplots()\n",
    "ax.scatter(df.salario, y)\n",
    "ax.set(xlabel='Salario', ylabel='y')"
   ]
  },
  {
   "cell_type": "code",
   "execution_count": 54,
   "metadata": {},
   "outputs": [
    {
     "data": {
      "text/plain": [
       "LogisticRegression(C=1.0, class_weight=None, dual=False, fit_intercept=True,\n",
       "                   intercept_scaling=1, l1_ratio=None, max_iter=100,\n",
       "                   multi_class='auto', n_jobs=None, penalty='l2',\n",
       "                   random_state=None, solver='lbfgs', tol=0.0001, verbose=0,\n",
       "                   warm_start=False)"
      ]
     },
     "execution_count": 54,
     "metadata": {},
     "output_type": "execute_result"
    }
   ],
   "source": [
    "reg_log = linear_model.LogisticRegression()\n",
    "reg_log.fit(X,y)"
   ]
  },
  {
   "cell_type": "code",
   "execution_count": 71,
   "metadata": {},
   "outputs": [],
   "source": [
    "y_estimado = reg_log.predict(X)\n",
    "y_estimado1 = reg_log.predict_proba(X)[:,1]"
   ]
  },
  {
   "cell_type": "code",
   "execution_count": 75,
   "metadata": {},
   "outputs": [
    {
     "data": {
      "text/plain": [
       "array([1, 0, 0, 0, 0, 1, 0, 1, 0, 0, 0, 0, 0, 1, 0, 0, 0, 0, 1, 0, 1, 0,\n",
       "       0, 0, 0, 0, 1, 0, 0, 0, 0, 1, 0, 1, 0, 1, 0, 1, 0, 0, 0, 0, 1, 0,\n",
       "       0, 1, 1, 0, 0, 1, 1, 1, 0, 0, 1, 0, 0, 1, 0, 1, 0, 1, 0, 0, 0, 0,\n",
       "       1, 0, 0, 0, 0, 0, 0, 1, 0, 1, 0, 0, 0, 1, 0, 0, 0, 0, 1, 0, 0, 0,\n",
       "       0, 1, 0, 0, 0, 1, 0, 0, 0, 0, 0, 0, 0, 0, 0, 1, 0, 0, 0, 0, 0, 1])"
      ]
     },
     "execution_count": 75,
     "metadata": {},
     "output_type": "execute_result"
    }
   ],
   "source": [
    "y_estimado"
   ]
  },
  {
   "cell_type": "code",
   "execution_count": 72,
   "metadata": {},
   "outputs": [
    {
     "data": {
      "text/plain": [
       "(array([5.60461822e-01, 2.18511060e-02, 3.40713796e-01, 1.78408868e-02,\n",
       "        3.29151263e-01, 7.96981996e-01, 7.75217424e-02, 5.79840206e-01,\n",
       "        1.96337424e-01, 2.23688334e-02, 9.38905048e-02, 1.52477253e-01,\n",
       "        4.60623344e-03, 6.80736034e-01, 2.36672162e-01, 2.32983883e-01,\n",
       "        2.64877181e-02, 4.08086905e-01, 6.22718055e-01, 8.19254265e-04,\n",
       "        6.79749578e-01, 1.77262355e-01, 4.84578109e-01, 1.19118594e-02,\n",
       "        4.95105410e-03, 2.22525593e-02, 5.72691371e-01, 1.06357265e-01,\n",
       "        1.48324507e-02, 3.76063257e-01, 4.46845890e-01, 5.03537624e-01,\n",
       "        4.76812772e-03, 5.53016419e-01, 1.57016516e-01, 5.90365186e-01,\n",
       "        7.48524569e-02, 6.18930473e-01, 2.79821150e-01, 4.16278991e-01,\n",
       "        3.02424904e-01, 1.51683200e-02, 5.59124020e-01, 2.46196442e-01,\n",
       "        1.44120593e-02, 6.68076012e-01, 7.87662744e-01, 1.26051430e-01,\n",
       "        8.57368843e-02, 6.64205865e-01, 9.58222158e-01, 9.66547648e-01,\n",
       "        2.21804096e-02, 4.09341892e-02, 6.53760730e-01, 3.55711998e-01,\n",
       "        6.87860261e-02, 9.15977913e-01, 4.98437530e-03, 7.08963329e-01,\n",
       "        3.85464903e-03, 7.22876334e-01, 6.14096760e-02, 6.96291655e-02,\n",
       "        7.59464935e-03, 8.05211331e-04, 5.12793704e-01, 3.57492017e-01,\n",
       "        1.21824120e-02, 6.78403444e-03, 5.74077487e-02, 2.87528075e-01,\n",
       "        3.21004392e-01, 9.21867360e-01, 9.77516953e-02, 7.19151511e-01,\n",
       "        2.89987091e-01, 3.78877333e-03, 4.61665309e-02, 5.30613412e-01,\n",
       "        5.89630661e-02, 4.95995088e-01, 4.87544527e-01, 4.41729391e-01,\n",
       "        7.32523301e-01, 4.08889432e-01, 3.12256687e-02, 4.92178770e-02,\n",
       "        3.93450786e-02, 7.43224070e-01, 1.98359986e-01, 2.83301514e-01,\n",
       "        8.39792259e-02, 9.06053725e-01, 2.66936557e-03, 1.74260221e-01,\n",
       "        4.33706425e-01, 8.50611228e-02, 4.04667111e-02, 5.81201244e-02,\n",
       "        1.05756552e-02, 1.53298886e-02, 8.14902379e-04, 8.63482836e-01,\n",
       "        4.43019932e-03, 3.07064431e-02, 7.73852052e-02, 1.44406271e-02,\n",
       "        2.22984588e-02, 5.11461858e-01]),\n",
       "      noasiat   gpa  postgrad  experien\n",
       " 0        0.0  3.36       0.0      15.0\n",
       " 1        1.0  2.35       1.0       9.0\n",
       " 2        1.0  3.33       1.0      10.0\n",
       " 3        1.0  3.37       0.0       2.0\n",
       " 4        1.0  3.87       1.0       4.0\n",
       " ..       ...   ...       ...       ...\n",
       " 105      1.0  3.12       1.0       2.0\n",
       " 106      0.0  3.36       0.0       5.0\n",
       " 107      0.0  2.51       1.0       3.0\n",
       " 108      1.0  2.89       0.0       8.0\n",
       " 109      1.0  3.85       1.0       7.0\n",
       " \n",
       " [110 rows x 4 columns])"
      ]
     },
     "execution_count": 72,
     "metadata": {},
     "output_type": "execute_result"
    }
   ],
   "source": [
    "y_estimado1, X"
   ]
  },
  {
   "cell_type": "code",
   "execution_count": 74,
   "metadata": {},
   "outputs": [
    {
     "data": {
      "text/plain": [
       "array([ True,  True,  True,  True,  True,  True,  True,  True,  True,\n",
       "        True,  True,  True,  True,  True,  True,  True,  True,  True,\n",
       "        True,  True,  True,  True,  True,  True,  True,  True, False,\n",
       "        True,  True, False, False,  True,  True,  True,  True, False,\n",
       "        True,  True,  True,  True,  True,  True,  True,  True,  True,\n",
       "       False,  True,  True,  True,  True,  True,  True,  True,  True,\n",
       "        True,  True,  True,  True,  True,  True,  True,  True,  True,\n",
       "        True,  True,  True,  True,  True,  True,  True,  True,  True,\n",
       "        True,  True,  True,  True, False,  True,  True,  True,  True,\n",
       "       False,  True, False,  True,  True,  True,  True,  True, False,\n",
       "       False,  True,  True,  True,  True,  True,  True,  True,  True,\n",
       "        True,  True,  True,  True,  True,  True,  True,  True,  True,\n",
       "        True,  True])"
      ]
     },
     "execution_count": 74,
     "metadata": {},
     "output_type": "execute_result"
    }
   ],
   "source": [
    "y == y_estimado"
   ]
  },
  {
   "cell_type": "code",
   "execution_count": 80,
   "metadata": {},
   "outputs": [
    {
     "data": {
      "text/plain": [
       "0.9090909090909091"
      ]
     },
     "execution_count": 80,
     "metadata": {},
     "output_type": "execute_result"
    }
   ],
   "source": [
    "metrics.accuracy_score(y,reg_log.predict(X))"
   ]
  },
  {
   "cell_type": "code",
   "execution_count": 81,
   "metadata": {},
   "outputs": [
    {
     "data": {
      "text/plain": [
       "Index(['noasiat', 'gpa', 'postgrad', 'experien'], dtype='object')"
      ]
     },
     "execution_count": 81,
     "metadata": {},
     "output_type": "execute_result"
    }
   ],
   "source": [
    "X.columns"
   ]
  }
 ],
 "metadata": {
  "kernelspec": {
   "display_name": "Python 3",
   "language": "python",
   "name": "python3"
  },
  "language_info": {
   "codemirror_mode": {
    "name": "ipython",
    "version": 3
   },
   "file_extension": ".py",
   "mimetype": "text/x-python",
   "name": "python",
   "nbconvert_exporter": "python",
   "pygments_lexer": "ipython3",
   "version": "3.7.6"
  }
 },
 "nbformat": 4,
 "nbformat_minor": 4
}
