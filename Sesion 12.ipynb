{
 "cells": [
  {
   "cell_type": "markdown",
   "metadata": {},
   "source": [
    "# Distribuciones muestrales"
   ]
  },
  {
   "cell_type": "markdown",
   "metadata": {},
   "source": [
    "Para calcular el parametro poblacion se debe de tener en cuenta que deseamos estimar:"
   ]
  },
  {
   "cell_type": "markdown",
   "metadata": {},
   "source": [
    "Si deseamos estimar la **media, Proporcion(funcion bernoulli), lambda(poisson)** usaremos la:\n",
    "**MEDIA MUESTRAL**"
   ]
  },
  {
   "cell_type": "markdown",
   "metadata": {},
   "source": [
    "Si conocemos la varianza para hacer casos de probabilidad podemos usar la funcion normal estandar"
   ]
  },
  {
   "cell_type": "markdown",
   "metadata": {},
   "source": [
    "Sino conocemos la varianza usaremos la distribucion t-Student"
   ]
  },
  {
   "cell_type": "markdown",
   "metadata": {},
   "source": [
    "Si por otro lado queres estemiar la **varianza** usaremos entonces la: **VARIANZA MUESTRAL**"
   ]
  },
  {
   "cell_type": "markdown",
   "metadata": {},
   "source": [
    "Podemos utilizar Chi cuadrada si vamos a hacer inferencia de una sola varianza"
   ]
  },
  {
   "cell_type": "markdown",
   "metadata": {},
   "source": [
    "O podemos utilizar F Fisher-Snedecor una distribucion del cociente de varianza X sobre la varianza Y"
   ]
  },
  {
   "cell_type": "code",
   "execution_count": 3,
   "metadata": {},
   "outputs": [],
   "source": [
    "import matplotlib.pyplot as plt\n",
    "from IPython.core.display import Image\n",
    "import seaborn as sns\n",
    "%matplotlib inline"
   ]
  },
  {
   "cell_type": "code",
   "execution_count": 8,
   "metadata": {},
   "outputs": [
    {
     "data": {
      "image/png": "[encoded data removed]",
      "text/plain": [
       "<Figure size 432x288 with 1 Axes>"
      ]
     },
     "metadata": {
      "needs_background": "light"
     },
     "output_type": "display_data"
    }
   ],
   "source": [
    "from scipy.stats import t\n",
    "\n",
    "data1 = t.rvs(100, size=1000000)\n",
    "data2 = t.rvs(50, size=1000000)\n",
    "data3 = t.rvs(4, size=1000000)\n",
    "\n",
    "ax = sns.distplot(data1, bins=500, kde=False, color='red')\n",
    "ax = sns.distplot(data2, bins=500, kde=False, color='blue')\n",
    "ax = sns.distplot(data3, bins=500, kde=False, color='green')"
   ]
  },
  {
   "cell_type": "code",
   "execution_count": 9,
   "metadata": {},
   "outputs": [
    {
     "data": {
      "image/png": "[encoded data removed]",
      "text/plain": [
       "<Figure size 432x288 with 1 Axes>"
      ]
     },
     "metadata": {
      "needs_background": "light"
     },
     "output_type": "display_data"
    }
   ],
   "source": [
    "from scipy.stats import chi2\n",
    "\n",
    "data1 = chi2.rvs(5, size=1000000)\n",
    "data2 = chi2.rvs(15, size=1000000)\n",
    "\n",
    "ax = sns.distplot(data1, bins=500, kde=False, color='red')\n",
    "ax = sns.distplot(data2, bins=500, kde=False, color='blue')"
   ]
  },
  {
   "cell_type": "code",
   "execution_count": 10,
   "metadata": {},
   "outputs": [
    {
     "data": {
      "image/png": "[encoded data removed]",
      "text/plain": [
       "<Figure size 432x288 with 1 Axes>"
      ]
     },
     "metadata": {
      "needs_background": "light"
     },
     "output_type": "display_data"
    }
   ],
   "source": [
    "from scipy.stats import f\n",
    "#Nos permite aproximar cocientes de varianzas\n",
    "\n",
    "data1 = f.rvs(5, 25, size=1000000)\n",
    "data2 = f.rvs(15, 25, size=1000000)\n",
    "\n",
    "ax = sns.distplot(data1, bins=500, kde=False, color='red')\n",
    "ax = sns.distplot(data2, bins=500, kde=False, color='blue')"
   ]
  },
  {
   "cell_type": "markdown",
   "metadata": {},
   "source": [
    "# haciendo calculos de probabilidad"
   ]
  },
  {
   "cell_type": "code",
   "execution_count": 12,
   "metadata": {},
   "outputs": [
    {
     "data": {
      "text/plain": [
       "0.0019800859524222187"
      ]
     },
     "execution_count": 12,
     "metadata": {},
     "output_type": "execute_result"
    }
   ],
   "source": [
    "# Probabilidad de obtner 4 en la distribucion dada\n",
    "f.pdf(4,15,25,)"
   ]
  },
  {
   "cell_type": "code",
   "execution_count": 13,
   "metadata": {},
   "outputs": [
    {
     "data": {
      "text/plain": [
       "0.9988900520089906"
      ]
     },
     "execution_count": 13,
     "metadata": {},
     "output_type": "execute_result"
    }
   ],
   "source": [
    "# Probabilidad acumulada de obtner 4 en la distribucion dada\n",
    "f.cdf(4,15,25,)"
   ]
  },
  {
   "cell_type": "code",
   "execution_count": 17,
   "metadata": {},
   "outputs": [
    {
     "data": {
      "text/plain": [
       "4.000000000000022"
      ]
     },
     "execution_count": 17,
     "metadata": {},
     "output_type": "execute_result"
    }
   ],
   "source": [
    "# Para encontrar aquel valor que acumula una probabilidad\n",
    "f.ppf(0.9988900520089906,15,25,)"
   ]
  },
  {
   "cell_type": "code",
   "execution_count": 18,
   "metadata": {},
   "outputs": [
    {
     "data": {
      "text/plain": [
       "0.982011155699839"
      ]
     },
     "execution_count": 18,
     "metadata": {},
     "output_type": "execute_result"
    }
   ],
   "source": [
    "# Para encontrar el valor de los datos que estan en el 50%\n",
    "f.ppf(0.5,15,25)"
   ]
  }
 ],
 "metadata": {
  "kernelspec": {
   "display_name": "Python 3",
   "language": "python",
   "name": "python3"
  },
  "language_info": {
   "codemirror_mode": {
    "name": "ipython",
    "version": 3
   },
   "file_extension": ".py",
   "mimetype": "text/x-python",
   "name": "python",
   "nbconvert_exporter": "python",
   "pygments_lexer": "ipython3",
   "version": "3.7.6"
  }
 },
 "nbformat": 4,
 "nbformat_minor": 4
}
